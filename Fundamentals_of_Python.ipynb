{
  "nbformat": 4,
  "nbformat_minor": 0,
  "metadata": {
    "colab": {
      "name": "Fundamentals of Python",
      "provenance": [],
      "authorship_tag": "ABX9TyPffo24DbWhu5fkLeCcysy8",
      "include_colab_link": true
    },
    "kernelspec": {
      "name": "python3",
      "display_name": "Python 3"
    },
    "language_info": {
      "name": "python"
    }
  },
  "cells": [
    {
      "cell_type": "markdown",
      "metadata": {
        "id": "view-in-github",
        "colab_type": "text"
      },
      "source": [
        "<a href=\"https://colab.research.google.com/github/mazette04/OOP-58003/blob/main/Fundamentals_of_Python.ipynb\" target=\"_parent\"><img src=\"https://colab.research.google.com/assets/colab-badge.svg\" alt=\"Open In Colab\"/></a>"
      ]
    },
    {
      "cell_type": "markdown",
      "source": [
        ""
      ],
      "metadata": {
        "id": "CfAs5NzwrUHn"
      }
    },
    {
      "cell_type": "markdown",
      "source": [
        "##Fundamentals of Python"
      ],
      "metadata": {
        "id": "IJ3IwuAoqj8-"
      }
    },
    {
      "cell_type": "markdown",
      "source": [
        "Python Indentation"
      ],
      "metadata": {
        "id": "3pP6NvsorRx0"
      }
    },
    {
      "cell_type": "code",
      "source": [
        "if 6>7:\n",
        "  print(\"6 is greater than 4\")\n",
        "else: \n",
        "  print(\"6 is less than a number\")\n",
        "  "
      ],
      "metadata": {
        "colab": {
          "base_uri": "https://localhost:8080/"
        },
        "id": "EkfEdoQerVi6",
        "outputId": "ca388ba5-c0a5-40f4-a68a-8daffa3f1f62"
      },
      "execution_count": 6,
      "outputs": [
        {
          "output_type": "stream",
          "name": "stdout",
          "text": [
            "6 is less than a number\n"
          ]
        }
      ]
    },
    {
      "cell_type": "markdown",
      "source": [
        "Python Comments"
      ],
      "metadata": {
        "id": "TEBD-5olsQKP"
      }
    },
    {
      "cell_type": "code",
      "source": [
        "print(\"Hello, World\")  #This is a comment"
      ],
      "metadata": {
        "colab": {
          "base_uri": "https://localhost:8080/"
        },
        "id": "kbSAYGC_sSWp",
        "outputId": "4ed52cd0-620c-45e2-8038-595115f37ea4"
      },
      "execution_count": 8,
      "outputs": [
        {
          "output_type": "stream",
          "name": "stdout",
          "text": [
            "Hello, World\n"
          ]
        }
      ]
    },
    {
      "cell_type": "markdown",
      "source": [
        "Python Variables"
      ],
      "metadata": {
        "id": "v6UggaQCtQsv"
      }
    },
    {
      "cell_type": "code",
      "source": [
        "a=1\n",
        "b,c=0,2\n",
        "c,d,e=2,3,4\n",
        "\n",
        "name=\"Ana\"\n",
        "\n",
        "print(e)\n",
        "print(d)\n",
        "print(name)"
      ],
      "metadata": {
        "colab": {
          "base_uri": "https://localhost:8080/"
        },
        "id": "IYem4MjVtYtc",
        "outputId": "4edfd873-9983-41a5-bc37-f5ae51149f9b"
      },
      "execution_count": 12,
      "outputs": [
        {
          "output_type": "stream",
          "name": "stdout",
          "text": [
            "4\n",
            "3\n",
            "Ana\n"
          ]
        }
      ]
    },
    {
      "cell_type": "markdown",
      "source": [
        "Casting"
      ],
      "metadata": {
        "id": "coJBvV88t_xI"
      }
    },
    {
      "cell_type": "code",
      "source": [
        "a=int(1)\n",
        "\n",
        "print(a)"
      ],
      "metadata": {
        "colab": {
          "base_uri": "https://localhost:8080/"
        },
        "id": "ZT1gcRTUuFku",
        "outputId": "44cfa1ee-ffb8-49c4-fd9e-05cf55437005"
      },
      "execution_count": 13,
      "outputs": [
        {
          "output_type": "stream",
          "name": "stdout",
          "text": [
            "1\n"
          ]
        }
      ]
    },
    {
      "cell_type": "markdown",
      "source": [
        "Type() function"
      ],
      "metadata": {
        "id": "q-YPh-XjuQfc"
      }
    },
    {
      "cell_type": "code",
      "source": [
        "a=int(2)\n",
        "b=float(4.50)\n",
        "\n",
        "print(type(a))\n",
        "print(type(b))"
      ],
      "metadata": {
        "colab": {
          "base_uri": "https://localhost:8080/"
        },
        "id": "kw2S5GkFuTeZ",
        "outputId": "8813d06a-0950-4963-b4f6-f160a824404e"
      },
      "execution_count": 20,
      "outputs": [
        {
          "output_type": "stream",
          "name": "stdout",
          "text": [
            "<class 'int'>\n",
            "<class 'float'>\n"
          ]
        }
      ]
    },
    {
      "cell_type": "markdown",
      "source": [
        "Double quotes and Single Quotes"
      ],
      "metadata": {
        "id": "-J761QxWuseI"
      }
    },
    {
      "cell_type": "code",
      "source": [
        "name = 'John'\n",
        "\n",
        "print(name)"
      ],
      "metadata": {
        "colab": {
          "base_uri": "https://localhost:8080/"
        },
        "id": "_7cwlytVuwDh",
        "outputId": "08c74e58-42eb-4660-b988-0e768e57c714"
      },
      "execution_count": 17,
      "outputs": [
        {
          "output_type": "stream",
          "name": "stdout",
          "text": [
            "John\n"
          ]
        }
      ]
    },
    {
      "cell_type": "markdown",
      "source": [
        "Case Sensitive"
      ],
      "metadata": {
        "id": "G-EJl5Xvu7nS"
      }
    },
    {
      "cell_type": "code",
      "source": [
        "print(a)\n",
        "A = \"l\"\n",
        "\n",
        "print(A)"
      ],
      "metadata": {
        "colab": {
          "base_uri": "https://localhost:8080/"
        },
        "id": "kLQICq15u9jV",
        "outputId": "941e4b01-ecd5-4cf1-f94d-34d701f8c940"
      },
      "execution_count": 23,
      "outputs": [
        {
          "output_type": "stream",
          "name": "stdout",
          "text": [
            "2\n",
            "l\n"
          ]
        }
      ]
    },
    {
      "cell_type": "markdown",
      "source": [
        "Multiple Variables with Single Value"
      ],
      "metadata": {
        "id": "JaMnD1L_vdtL"
      }
    },
    {
      "cell_type": "code",
      "source": [
        "f=g=h=\"Tony\"\n",
        "\n",
        "print(f)\n",
        "print(g)\n",
        "print(h)\n",
        "print(f,g,h)"
      ],
      "metadata": {
        "colab": {
          "base_uri": "https://localhost:8080/"
        },
        "id": "oMnLyhdQvjVB",
        "outputId": "899b7230-ca91-4810-9f01-a3d95e18f161"
      },
      "execution_count": 27,
      "outputs": [
        {
          "output_type": "stream",
          "name": "stdout",
          "text": [
            "Tony\n",
            "Tony\n",
            "Tony\n",
            "Tony Tony Tony\n"
          ]
        }
      ]
    },
    {
      "cell_type": "markdown",
      "source": [
        "Output Variables"
      ],
      "metadata": {
        "id": "3dj_Da0uwAgZ"
      }
    },
    {
      "cell_type": "code",
      "source": [
        "print(\"Welcome to Python Programming\")\n",
        "x = \"Welcome to\"\n",
        "y= \"Python Programming\"\n",
        "print(x+\" \" + y)"
      ],
      "metadata": {
        "colab": {
          "base_uri": "https://localhost:8080/"
        },
        "id": "VCQRLbQOwB7A",
        "outputId": "ff6fe6ec-93d6-45c8-9c3e-ca7b9991cf9e"
      },
      "execution_count": 30,
      "outputs": [
        {
          "output_type": "stream",
          "name": "stdout",
          "text": [
            "Welcome to Python Programming\n",
            "Welcome to Python Programming\n"
          ]
        }
      ]
    },
    {
      "cell_type": "markdown",
      "source": [
        "Arithmetic Operations"
      ],
      "metadata": {
        "id": "ISlOb_Law_fj"
      }
    },
    {
      "cell_type": "code",
      "source": [
        "print(1+1)\n",
        "print(1-1)\n",
        "print(1*1)\n",
        "print(int(1/1))\n",
        "print(3//2)\n",
        "print(3**2)"
      ],
      "metadata": {
        "colab": {
          "base_uri": "https://localhost:8080/"
        },
        "id": "yvLiL9gXxCUc",
        "outputId": "db2a5ae3-c98d-4828-b95d-47e8bf61ac30"
      },
      "execution_count": 37,
      "outputs": [
        {
          "output_type": "stream",
          "name": "stdout",
          "text": [
            "2\n",
            "0\n",
            "1\n",
            "1\n",
            "1\n",
            "9\n"
          ]
        }
      ]
    },
    {
      "cell_type": "markdown",
      "source": [
        "Assignment Operators"
      ],
      "metadata": {
        "id": "4W_jDRTsxlyi"
      }
    },
    {
      "cell_type": "code",
      "source": [
        "p=5\n",
        "\n",
        "p%=2   #Same as p = p%2\n",
        "print(p)"
      ],
      "metadata": {
        "colab": {
          "base_uri": "https://localhost:8080/"
        },
        "id": "g_oO8GkQxpTn",
        "outputId": "f0b666d0-1f7d-485f-8f59-1b3196bf4422"
      },
      "execution_count": 39,
      "outputs": [
        {
          "output_type": "stream",
          "name": "stdout",
          "text": [
            "1\n"
          ]
        }
      ]
    },
    {
      "cell_type": "markdown",
      "source": [
        "Comparison Operators"
      ],
      "metadata": {
        "id": "m8vRll1IyOuf"
      }
    },
    {
      "cell_type": "code",
      "source": [
        "s = 11\n",
        "t = 12\n",
        "\n",
        "s>t"
      ],
      "metadata": {
        "colab": {
          "base_uri": "https://localhost:8080/"
        },
        "id": "D_lSTWh2yRkR",
        "outputId": "96ef3406-1ed3-480b-b109-3563e0cc820c"
      },
      "execution_count": 40,
      "outputs": [
        {
          "output_type": "execute_result",
          "data": {
            "text/plain": [
              "False"
            ]
          },
          "metadata": {},
          "execution_count": 40
        }
      ]
    },
    {
      "cell_type": "markdown",
      "source": [
        "Logical Operators"
      ],
      "metadata": {
        "id": "kZICmE0yycH_"
      }
    },
    {
      "cell_type": "code",
      "source": [
        "print(s>t and t>s)  \n",
        "print(s>t or t>s)  "
      ],
      "metadata": {
        "colab": {
          "base_uri": "https://localhost:8080/"
        },
        "id": "lS70Ep0Vye8U",
        "outputId": "7349459c-e904-4089-d647-c3a297f47518"
      },
      "execution_count": 43,
      "outputs": [
        {
          "output_type": "stream",
          "name": "stdout",
          "text": [
            "False\n",
            "True\n"
          ]
        }
      ]
    },
    {
      "cell_type": "markdown",
      "source": [
        "Identity Operators"
      ],
      "metadata": {
        "id": "iGD661e79Si-"
      }
    },
    {
      "cell_type": "code",
      "source": [
        "print(s is t)\n",
        "print(t is not s)"
      ],
      "metadata": {
        "colab": {
          "base_uri": "https://localhost:8080/"
        },
        "id": "_vAge1ey9UMd",
        "outputId": "3d1b4437-83e3-401b-bf98-c867d45dbffc"
      },
      "execution_count": 47,
      "outputs": [
        {
          "output_type": "stream",
          "name": "stdout",
          "text": [
            "False\n",
            "True\n"
          ]
        }
      ]
    },
    {
      "cell_type": "markdown",
      "source": [
        "Bitwise Operators"
      ],
      "metadata": {
        "id": "esWps80P-FD2"
      }
    },
    {
      "cell_type": "code",
      "source": [
        "q = 5    # binary 0101\n",
        "v = 4\n",
        "\n",
        "print(5|4)\n",
        "print(5^4)\n",
        "\n"
      ],
      "metadata": {
        "colab": {
          "base_uri": "https://localhost:8080/"
        },
        "id": "kUAtYtoV-H2u",
        "outputId": "0a7c6fef-27fe-4f06-861d-77c6a080f2b9"
      },
      "execution_count": 49,
      "outputs": [
        {
          "output_type": "stream",
          "name": "stdout",
          "text": [
            "5\n",
            "1\n"
          ]
        }
      ]
    },
    {
      "cell_type": "markdown",
      "source": [
        "Input() function"
      ],
      "metadata": {
        "id": "3hR6CbEz_MFT"
      }
    },
    {
      "cell_type": "code",
      "source": [
        "age = int(input())\n",
        "\n",
        "if age==18:\n",
        "  print(\"Your age is allowed to vote\")"
      ],
      "metadata": {
        "colab": {
          "base_uri": "https://localhost:8080/"
        },
        "id": "4tdTyjvg_PEq",
        "outputId": "616db613-dca0-41ac-f6de-04ac61bacf3c"
      },
      "execution_count": 51,
      "outputs": [
        {
          "output_type": "stream",
          "name": "stdout",
          "text": [
            "18\n",
            "Your age is allowed to vote\n"
          ]
        }
      ]
    }
  ]
}
{
  "nbformat": 4,
  "nbformat_minor": 0,
  "metadata": {
    "colab": {
      "name": "GUI Application.ipynb",
      "provenance": [],
      "authorship_tag": "ABX9TyPRl9OWrbeji9RhNWTPJnCC",
      "include_colab_link": true
    },
    "kernelspec": {
      "name": "python3",
      "display_name": "Python 3"
    },
    "language_info": {
      "name": "python"
    }
  },
  "cells": [
    {
      "cell_type": "markdown",
      "metadata": {
        "id": "view-in-github",
        "colab_type": "text"
      },
      "source": [
        "<a href=\"https://colab.research.google.com/github/mazette04/OOP-58003/blob/main/GUI_Application.ipynb\" target=\"_parent\"><img src=\"https://colab.research.google.com/assets/colab-badge.svg\" alt=\"Open In Colab\"/></a>"
      ]
    },
    {
      "cell_type": "markdown",
      "source": [
        "Students' Grade in Prelim, Midterm, and Final Term"
      ],
      "metadata": {
        "id": "ge6HgbyeGjxZ"
      }
    },
    {
      "cell_type": "code",
      "source": [
        "#@title Students' Grade in OOP\n",
        "\n",
        "Student_Name = 'Maria Sayo' #@param {type: \"string\"}\n",
        "Prelim_Grade = 90 #@param {type: \"number\"}\n",
        "Midterm_Grade = 90 #@param {type: \"number\"}\n",
        "Final_Grade = 90 #@param {type: \"number\"}\n",
        "Semestral_Grade = (Prelim_Grade+Midterm_Grade+Final_Grade)/3\n",
        "\n",
        "\n",
        "\n",
        "Gender = \"Male\" #@param [\"Male\",\"Female\"]\n",
        "Single = False #@param {type: \"boolean\"} \n",
        "Married = False #@param {type: \"boolean\"}\n",
        "Widow = False #@param {type: \"boolean\"}\n",
        "\n",
        "print(\"My Name is:\"+Student_Name)\n",
        "print(\"My Semestral grade is\" +str(Semestral_Grade))"
      ],
      "metadata": {
        "colab": {
          "base_uri": "https://localhost:8080/"
        },
        "id": "zSTpCJ05Gp0_",
        "outputId": "55b0d13c-2305-4940-c3c0-28209e5ee6bd"
      },
      "execution_count": 9,
      "outputs": [
        {
          "output_type": "stream",
          "name": "stdout",
          "text": [
            "My Name is:Maria Sayo\n",
            "My Semestral grade is90.0\n"
          ]
        }
      ]
    }
  ]
}
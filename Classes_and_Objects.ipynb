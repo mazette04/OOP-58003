{
  "nbformat": 4,
  "nbformat_minor": 0,
  "metadata": {
    "colab": {
      "provenance": [],
      "authorship_tag": "ABX9TyOUnmy0eZKoJy8WkyNmLzkc",
      "include_colab_link": true
    },
    "kernelspec": {
      "name": "python3",
      "display_name": "Python 3"
    },
    "language_info": {
      "name": "python"
    }
  },
  "cells": [
    {
      "cell_type": "markdown",
      "metadata": {
        "id": "view-in-github",
        "colab_type": "text"
      },
      "source": [
        "<a href=\"https://colab.research.google.com/github/mazette04/OOP-58003/blob/main/Classes_and_Objects.ipynb\" target=\"_parent\"><img src=\"https://colab.research.google.com/assets/colab-badge.svg\" alt=\"Open In Colab\"/></a>"
      ]
    },
    {
      "cell_type": "code",
      "execution_count": 3,
      "metadata": {
        "colab": {
          "base_uri": "https://localhost:8080/"
        },
        "id": "uMf_EAsOBo39",
        "outputId": "c6c6e3dc-e90b-44d8-8be1-d298636edd4d"
      },
      "outputs": [
        {
          "output_type": "stream",
          "name": "stdout",
          "text": [
            "The perimeter of the rectangle is 30\n",
            "The area of the rectangle is 50\n"
          ]
        },
        {
          "output_type": "execute_result",
          "data": {
            "text/plain": [
              "(10, 5)"
            ]
          },
          "metadata": {},
          "execution_count": 3
        }
      ],
      "source": [
        "#Write a Rectangle class in Python language with length and width as attributes\n",
        "#Create a Perimeter() and Area() as methods to compute for the perimeter and area of the rectangle\n",
        "\n",
        "class Rectangle:\n",
        "  def __init__(self,length,width):\n",
        "    self.length = length\n",
        "    self.width = width\n",
        "\n",
        "  def Perimeter(self):\n",
        "    return 2*(self.length + self.width)\n",
        "  \n",
        "  def Area(self):\n",
        "    return self.length * self.width\n",
        "\n",
        "  def Rectangle(self):\n",
        "    return self.length, self.width\n",
        "\n",
        "  def display(self):\n",
        "    print(\"The perimeter of the rectangle is\",self.Perimeter())\n",
        "    print(\"The area of the rectangle is\",self.Area())\n",
        "\n",
        "rectangle = Rectangle(10,5)\n",
        "\n",
        "rectangle.display()\n",
        "rectangle.Rectangle()\n",
        "  \n"
      ]
    },
    {
      "cell_type": "code",
      "source": [
        "#Modify the object properties\n",
        "rectangle.length = 7\n",
        "\n",
        "rectangle.Rectangle()\n",
        "\n",
        "rectangle.display()\n"
      ],
      "metadata": {
        "colab": {
          "base_uri": "https://localhost:8080/"
        },
        "id": "emODgbjMKbje",
        "outputId": "115b2186-db31-4276-e899-5d4a22d7d883"
      },
      "execution_count": 5,
      "outputs": [
        {
          "output_type": "stream",
          "name": "stdout",
          "text": [
            "The perimeter of the rectangle is 24\n",
            "The area of the rectangle is 35\n"
          ]
        }
      ]
    },
    {
      "cell_type": "code",
      "source": [
        "#Deletion of object properties\n",
        "\n",
        "del rectangle\n",
        "rectangle.Rectangle()"
      ],
      "metadata": {
        "colab": {
          "base_uri": "https://localhost:8080/",
          "height": 208
        },
        "id": "HhzYgsdmK4c0",
        "outputId": "46536ac9-6321-46cc-9796-fb5bbe3df313"
      },
      "execution_count": 6,
      "outputs": [
        {
          "output_type": "error",
          "ename": "NameError",
          "evalue": "ignored",
          "traceback": [
            "\u001b[0;31m---------------------------------------------------------------------------\u001b[0m",
            "\u001b[0;31mNameError\u001b[0m                                 Traceback (most recent call last)",
            "\u001b[0;32m<ipython-input-6-927a24f4c885>\u001b[0m in \u001b[0;36m<module>\u001b[0;34m\u001b[0m\n\u001b[1;32m      2\u001b[0m \u001b[0;34m\u001b[0m\u001b[0m\n\u001b[1;32m      3\u001b[0m \u001b[0;32mdel\u001b[0m \u001b[0mrectangle\u001b[0m\u001b[0;34m\u001b[0m\u001b[0;34m\u001b[0m\u001b[0m\n\u001b[0;32m----> 4\u001b[0;31m \u001b[0mrectangle\u001b[0m\u001b[0;34m.\u001b[0m\u001b[0mRectangle\u001b[0m\u001b[0;34m(\u001b[0m\u001b[0;34m)\u001b[0m\u001b[0;34m\u001b[0m\u001b[0;34m\u001b[0m\u001b[0m\n\u001b[0m",
            "\u001b[0;31mNameError\u001b[0m: name 'rectangle' is not defined"
          ]
        }
      ]
    },
    {
      "cell_type": "code",
      "source": [],
      "metadata": {
        "id": "qbmmUTWILgQv"
      },
      "execution_count": null,
      "outputs": []
    }
  ]
}
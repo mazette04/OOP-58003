{
  "nbformat": 4,
  "nbformat_minor": 0,
  "metadata": {
    "colab": {
      "name": "Prelim Exam.ipynb",
      "provenance": [],
      "authorship_tag": "ABX9TyMLLZKx1p327mWRI0RxuQii",
      "include_colab_link": true
    },
    "kernelspec": {
      "name": "python3",
      "display_name": "Python 3"
    },
    "language_info": {
      "name": "python"
    }
  },
  "cells": [
    {
      "cell_type": "markdown",
      "metadata": {
        "id": "view-in-github",
        "colab_type": "text"
      },
      "source": [
        "<a href=\"https://colab.research.google.com/github/mazette04/OOP-58003/blob/main/Prelim_Exam.ipynb\" target=\"_parent\"><img src=\"https://colab.research.google.com/assets/colab-badge.svg\" alt=\"Open In Colab\"/></a>"
      ]
    },
    {
      "cell_type": "code",
      "execution_count": 1,
      "metadata": {
        "colab": {
          "base_uri": "https://localhost:8080/"
        },
        "id": "v547ENye16fA",
        "outputId": "101b6274-246c-49d3-e693-906ab824cc40"
      },
      "outputs": [
        {
          "output_type": "stream",
          "name": "stdout",
          "text": [
            "sum = 210\n",
            "Average =  10.5\n"
          ]
        }
      ],
      "source": [
        "n = 20\n",
        "\n",
        "total_numbers = n\n",
        "\n",
        "sum = 0\n",
        "\n",
        "while n >= 0:\n",
        "\n",
        "  sum += n      #sum = sum+n             20+19+18+17+16+15+14+13+12+11+10+9+8+7+6+5+4+3+2+1+0=210\n",
        "\n",
        "  n -= 1           #n = n-1                         -1\n",
        "\n",
        "print(\"sum =\", sum)\n",
        "\n",
        "\n",
        "\n",
        "average = sum / total_numbers     #210/20 = 10.50\n",
        "\n",
        "print(\"Average = \", average)"
      ]
    },
    {
      "cell_type": "code",
      "source": [
        "#Problem 2\n",
        "\n",
        "class Student:\n",
        "  def __init__(self,Name, Student_No,Age, Course, School):\n",
        "    self.Name = Name\n",
        "    self.Student_No = Student_No\n",
        "    self.Age = Age\n",
        "    self.Course = Course\n",
        "    self.School = School                                #assigning all the attributes\n",
        "\n",
        "  def Self(self):\n",
        "    print(\"My Name is\",self.Name)\n",
        "    print(\"My Student Number is\",self.Student_No)\n",
        "    print(\"My Age is\",self.Age)\n",
        "    print(\"My Course is\",self.Course)\n",
        "    print(\"I am studying in\",self.School)       #assigning Methods to display the instance of the class\n",
        "\n",
        "Myself = Student(\"Maria\",201040165,39,\"BSCpE\",\"Adamson University\")\n",
        "Myself.Self()\n"
      ],
      "metadata": {
        "colab": {
          "base_uri": "https://localhost:8080/"
        },
        "id": "Gk4ulRGW-aro",
        "outputId": "4f8188e8-3dd1-4574-a435-e1f8d44cafac"
      },
      "execution_count": 2,
      "outputs": [
        {
          "output_type": "stream",
          "name": "stdout",
          "text": [
            "My Name is Maria\n",
            "My Student Number is 201040165\n",
            "My Age is 39\n",
            "My Course is BSCpE\n",
            "I am studying in Adamson University\n"
          ]
        }
      ]
    }
  ]
}